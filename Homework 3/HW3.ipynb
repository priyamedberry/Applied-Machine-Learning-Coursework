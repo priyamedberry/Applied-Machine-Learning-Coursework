{
 "cells": [
  {
   "cell_type": "markdown",
   "metadata": {},
   "source": [
    "# Homework 3\n",
    "\n",
    "The goal of this assignment was to predict the Combined Unrounded adjusted Fuel Economy using various models and trained and tested on the 2015-2018 Fuel Economy data.\n"
   ]
  },
  {
   "cell_type": "markdown",
   "metadata": {},
   "source": [
    "### Importing Libraries and Data"
   ]
  },
  {
   "cell_type": "code",
   "execution_count": 97,
   "metadata": {},
   "outputs": [],
   "source": [
    "import numpy as np\n",
    "import pandas as pd\n",
    "import sklearn\n",
    "import fancyimpute\n",
    "from sklearn.model_selection import train_test_split, GridSearchCV\n",
    "from sklearn.preprocessing import StandardScaler, PolynomialFeatures\n",
    "from sklearn.pipeline import make_pipeline\n",
    "from sklearn.linear_model import Ridge\n",
    "from sklearn.ensemble import RandomForestRegressor\n",
    "import matplotlib.pyplot as plt"
   ]
  },
  {
   "cell_type": "code",
   "execution_count": 2,
   "metadata": {},
   "outputs": [
    {
     "name": "stderr",
     "output_type": "stream",
     "text": [
      "/anaconda3/lib/python3.6/site-packages/IPython/core/interactiveshell.py:2698: DtypeWarning: Columns (15,51,52,53,54,55,56,57,58,59,60,61,62,63,64,67,72,75,76,77,78,82,84,85,86,89,90,91,92,93,94,95,96,97,102,103,104,105,106,108) have mixed types. Specify dtype option on import or set low_memory=False.\n",
      "  interactivity=interactivity, compiler=compiler, result=result)\n"
     ]
    }
   ],
   "source": [
    "data = pd.read_csv(\"hw3data.csv\")"
   ]
  },
  {
   "cell_type": "markdown",
   "metadata": {},
   "source": [
    "After reading in the data, I pruned out columns based on regular expressions I expected to be found. Aside from the columns that we were told to drop, I also dropped ones that seemed overly specific (usually descriptions of other variables) and would create way too many new features when I one-hot encoded the data."
   ]
  },
  {
   "cell_type": "code",
   "execution_count": 3,
   "metadata": {},
   "outputs": [],
   "source": [
    "data = data[data.columns.drop(list(data.filter(regex='EPA')))]\n",
    "data = data[data.columns.drop(list(data.filter(regex='Guzzler')))]\n",
    "data = data[data.columns.drop(list(data.filter(regex='CO2')))]\n",
    "data = data[data.columns.drop(list(data.filter(regex='Smog')))]\n",
    "data = data[data.columns.drop(list(data.filter(regex='Unnamed')))]\n",
    "data = data[data.columns.drop(list(data.filter(regex='cost')))]\n",
    "data = data[data.columns.drop(list(data.filter(regex='Range')))]\n",
    "data = data[data.columns.drop(list(data.filter(regex='Rating')))]\n",
    "data = data[data.columns.drop(list(data.filter(regex='GHG')))]\n",
    "data = data[data.columns.drop(list(data.filter(regex='mpg')))]\n",
    "data = data[data.columns.drop(list(data.filter(regex='Desc')))]\n",
    "data.drop(['Carline','Division', 'Oil Viscosity'], axis=1, inplace=True)\n",
    "\n",
    "#list(data.columns)"
   ]
  },
  {
   "cell_type": "markdown",
   "metadata": {},
   "source": [
    "#### Preprocessing\n",
    "Next I split between continuous columns and categorical columns which was helpful for preprocessing the categoricals."
   ]
  },
  {
   "cell_type": "code",
   "execution_count": 4,
   "metadata": {
    "collapsed": true
   },
   "outputs": [],
   "source": [
    "data = data.dropna(thresh=len(data)/100,axis=1)\n",
    "len(data.columns)\n",
    "cont_cols = data.select_dtypes(exclude=['object'])\n",
    "del cont_cols['Comb Unrd Adj FE - Conventional Fuel']\n",
    "\n",
    "cat_cols = data.select_dtypes(include=['object'])\n"
   ]
  },
  {
   "cell_type": "markdown",
   "metadata": {},
   "source": [
    "Then I split X and y train/test in order to enable one-hot encoding of categorical variables, and used get_dummies to create the new features."
   ]
  },
  {
   "cell_type": "code",
   "execution_count": 6,
   "metadata": {},
   "outputs": [],
   "source": [
    "for col in cat_cols:\n",
    "    data[col] = data[col].astype('category')\n",
    "    \n",
    "X_train = data.loc[data['Model Year'] < 2018]\n",
    "del X_train['Comb Unrd Adj FE - Conventional Fuel']\n",
    "y_train = data.loc[data['Model Year'] < 2018,['Comb Unrd Adj FE - Conventional Fuel']]\n",
    "\n",
    "X_test = data.loc[data['Model Year'] == 2018]\n",
    "del X_test['Comb Unrd Adj FE - Conventional Fuel']\n",
    "y_test = data.loc[data['Model Year'] == 2018,['Comb Unrd Adj FE - Conventional Fuel']]\n",
    "\n",
    "cat_cols = list(cat_cols)\n"
   ]
  },
  {
   "cell_type": "code",
   "execution_count": 7,
   "metadata": {},
   "outputs": [],
   "source": [
    "X_whole = pd.concat((X_train, X_test))\n",
    "y_whole = pd.concat((y_train, y_test))   \n",
    "X_whole = pd.get_dummies(X_whole, columns=cat_cols)"
   ]
  },
  {
   "cell_type": "markdown",
   "metadata": {},
   "source": [
    "I decided to use fancyimpute because mean imputation and knn imputation didn't seem to be the right choice based on the nature of the encoded categorical variables (measuring euclidean distance didn't seem appropriate for a set of binary variables). "
   ]
  },
  {
   "cell_type": "markdown",
   "metadata": {},
   "source": [
    "Please note: I accidentally converted the following cell into markdown after i had run the imputer and I didn't want to re-do fancy impute (which takes a long time), so please believe that I did run fancyimpute even though it doesn't look like I did since there's no record of it running on Jupyter"
   ]
  },
  {
   "cell_type": "code",
   "execution_count": null,
   "metadata": {
    "collapsed": true
   },
   "outputs": [],
   "source": [
    "mice = fancyimpute.MICE(verbose=0)\n",
    "X_fancy_mice = mice.complete(X_whole)"
   ]
  },
  {
   "cell_type": "markdown",
   "metadata": {},
   "source": [
    "After imputation was complete I re-split train data (2015-2017) and test data (2018)"
   ]
  },
  {
   "cell_type": "code",
   "execution_count": 150,
   "metadata": {},
   "outputs": [],
   "source": [
    "X_whole_out = pd.DataFrame(X_fancy_mice)\n",
    "X_whole_out.columns = X_whole.columns\n",
    "X_whole_out.index = X_whole.index\n",
    "X_whole_out\n",
    "\n",
    "X_train = X_whole_out.loc[X_whole_out['Model Year'] < 2018]\n",
    "X_test = X_whole_out.loc[X_whole_out['Model Year'] == 2018]"
   ]
  },
  {
   "cell_type": "markdown",
   "metadata": {},
   "source": [
    "### Task 1: Linear Model\n",
    "For my linear model I chose the Ridge regression, and made a pipeline first through Standard Scaler and then through the Ridge model. Below you can see the results from this model, tuned on GridsearchCV to find the best alpha parameter."
   ]
  },
  {
   "cell_type": "code",
   "execution_count": 25,
   "metadata": {},
   "outputs": [
    {
     "name": "stderr",
     "output_type": "stream",
     "text": [
      "/Users/priyamedberry/scikit-learn/sklearn/model_selection/_search.py:714: DeprecationWarning: The default of the `iid` parameter will change from True to False in version 0.22 and will be removed in 0.24. This will change numeric results when test-set sizes are unequal.\n",
      "  DeprecationWarning)\n"
     ]
    },
    {
     "name": "stdout",
     "output_type": "stream",
     "text": [
      "{'ridge__alpha': 100.0}\n",
      "0.864468553895\n"
     ]
    }
   ],
   "source": [
    "ridge_pipe = make_pipeline(StandardScaler(), Ridge())\n",
    "param_grid_r = {'ridge__alpha': np.logspace(-3,3,13)}\n",
    "grid = GridSearchCV(ridge_pipe, param_grid_r, cv=10)\n",
    "grid.fit(X_train, y_train)\n",
    "\n",
    "print(grid.best_params_)\n",
    "print(grid.score(X_test, y_test))\n"
   ]
  },
  {
   "cell_type": "markdown",
   "metadata": {
    "collapsed": true
   },
   "source": [
    "The R^2 for this model was 0.864, and the best alpha parameter was 100. However, the homework instructions noted that splitting the train/test data by year removes the iid assumption, so I decided to reevaluate the model on newly split train/test data, as shown below."
   ]
  },
  {
   "cell_type": "code",
   "execution_count": 27,
   "metadata": {},
   "outputs": [
    {
     "name": "stdout",
     "output_type": "stream",
     "text": [
      "0.917232671159\n"
     ]
    }
   ],
   "source": [
    "X_train_iid, X_test_iid, y_train_iid, y_test_iid = train_test_split(X_whole_out, \n",
    "                                                                    y_whole, \n",
    "                                                                    random_state=0)\n",
    "\n",
    "print(grid.score(X_test_iid, y_test_iid))"
   ]
  },
  {
   "cell_type": "markdown",
   "metadata": {},
   "source": [
    "As shown above, the R^2 actually improved on the newly split data from 0.864 to 0.917, thus confirming this is a decent fit for the data."
   ]
  },
  {
   "cell_type": "markdown",
   "metadata": {},
   "source": [
    "### Task 2: Feature Engineering"
   ]
  },
  {
   "cell_type": "markdown",
   "metadata": {},
   "source": [
    "In the exploration of feature engineering, I decided to look at polynomializing some of the features, such as #Cyl and #Gears. I decided against using interaction terms because that method is usually aided by knowledge of what features are likely to interact, and I will be the first to admit that my knowledge of cars is very limited and therefore I didn't feel like it would have been smart for me to guess feature interactions."
   ]
  },
  {
   "cell_type": "markdown",
   "metadata": {},
   "source": [
    "Below is my first attempt at using PolynomialFeatures. Unfortunately, this transformation doesn't allow for you to specify which features you want to transform, so instead it transformed all ~1000 of the features instead of the ~5 that I wanted to transform (I don't think it's wise to polynomialize all the one-hot encoded categorical variables). It is for this reason that I think the score drops to 0.70, as shown below."
   ]
  },
  {
   "cell_type": "code",
   "execution_count": 29,
   "metadata": {},
   "outputs": [
    {
     "name": "stderr",
     "output_type": "stream",
     "text": [
      "/Users/priyamedberry/scikit-learn/sklearn/linear_model/ridge.py:155: UserWarning: Singular matrix in solving dual problem. Using least-squares solution instead.\n",
      "  warnings.warn(\"Singular matrix in solving dual problem. Using \"\n"
     ]
    },
    {
     "data": {
      "text/plain": [
       "0.69891791571520567"
      ]
     },
     "execution_count": 29,
     "metadata": {},
     "output_type": "execute_result"
    }
   ],
   "source": [
    "poly_lr = make_pipeline(PolynomialFeatures(include_bias=False), Ridge(alpha=100))\n",
    "\n",
    "poly_lr.fit(X_train, y_train)\n",
    "poly_lr.score(X_test, y_test)"
   ]
  },
  {
   "cell_type": "markdown",
   "metadata": {},
   "source": [
    "In order to account for the issue discussed above, I decided to use to create a new train/test set from just the continuous columns to see if the model would do better with more controlled transformation (even if it means sacrificing the categorical variables)."
   ]
  },
  {
   "cell_type": "code",
   "execution_count": 32,
   "metadata": {},
   "outputs": [
    {
     "data": {
      "text/plain": [
       "0.60517685184013303"
      ]
     },
     "execution_count": 32,
     "metadata": {},
     "output_type": "execute_result"
    }
   ],
   "source": [
    "X_train_poly = X_train[list(cont_cols)]\n",
    "X_test_poly = X_test[list(cont_cols)]\n",
    "\n",
    "poly_l2 = make_pipeline(StandardScaler(), \n",
    "                        PolynomialFeatures(include_bias=False), Ridge(alpha=100))\n",
    "\n",
    "poly_l2.fit(X_train_poly, y_train)\n",
    "poly_l2.score(X_test_poly, y_test)"
   ]
  },
  {
   "cell_type": "markdown",
   "metadata": {},
   "source": [
    "Since the R^2 score dropped to 0.605, it seems that the categorical variables are more necessary than previously though, and thus it is not worth dropping them from the dataset just to making the process of creating polynomial features easier. With these results my conclusion is that unless we can pick specifically which features we want to polynomialize while still preventing data leakage (i.e. without polynomializing certain features and then concatenating them with the rest), then this method of feature engineering is not very useful on this dataset. It's also arguably not that necessary, since polynomializing is usually used when you have too few features and want more to work with. This dataset already has a lot of features, and therefore doesn't seem to need more."
   ]
  },
  {
   "cell_type": "markdown",
   "metadata": {},
   "source": [
    "### Task 3 Any Models\n",
    "After looking at the X dataset again, I realized that it was one-hot encoding release date, which is very specific and arguably unnecessary with the 'Model Year' in the dataset, so I decided to remove it."
   ]
  },
  {
   "cell_type": "code",
   "execution_count": 158,
   "metadata": {},
   "outputs": [],
   "source": [
    "y_train = data.loc[data['Model Year'] < 2018,['Comb Unrd Adj FE - Conventional Fuel']]\n",
    "y_test = data.loc[data['Model Year'] == 2018,['Comb Unrd Adj FE - Conventional Fuel']]\n",
    "X_train = X_train[X_train.columns.drop(list(X_train.filter(regex='Release')))]\n",
    "X_test = X_test[X_test.columns.drop(list(X_test.filter(regex='Release')))]\n"
   ]
  },
  {
   "cell_type": "markdown",
   "metadata": {},
   "source": [
    "I decided to use the Random Forest Regressor because it allows for ease of analysis of feature importances. Below is my initial fitting and testing of the 2015-2017 and 2018 data."
   ]
  },
  {
   "cell_type": "code",
   "execution_count": 126,
   "metadata": {},
   "outputs": [
    {
     "data": {
      "image/png": "[encoded data removed]",
      "text/plain": [
       "<matplotlib.figure.Figure at 0x1a4a833be0>"
      ]
     },
     "metadata": {},
     "output_type": "display_data"
    }
   ],
   "source": [
    "import warnings\n",
    "warnings.filterwarnings('ignore')\n",
    "\n",
    "train_scores = []\n",
    "test_scores = []\n",
    "\n",
    "rf = RandomForestRegressor(warm_start=True)\n",
    "estimator_range = range(1, 100, 5)\n",
    "for n_estimators in estimator_range:\n",
    "    rf.n_estimators = n_estimators\n",
    "    rf.fit(X_train, y_train)\n",
    "    train_scores.append(rf.score(X_train, y_train))\n",
    "    test_scores.append(rf.score(X_test, y_test))\n",
    "    \n",
    "plt.plot(estimator_range, test_scores, label=\"test scores\")\n",
    "plt.plot(estimator_range, train_scores, label=\"train scores\")\n",
    "plt.ylabel(\"accuracy\")\n",
    "plt.xlabel(\"n_estimators\")\n",
    "plt.legend()\n",
    "plt.show()"
   ]
  },
  {
   "cell_type": "markdown",
   "metadata": {},
   "source": [
    "As shown in the plot above, the Random Forest Regressor works very well on this dataset, as it seems to plateau at ~0.98. Next I wanted to look at the feature range to see if there's a point where the performance plateaus and more features aren't as helpful."
   ]
  },
  {
   "cell_type": "code",
   "execution_count": 127,
   "metadata": {},
   "outputs": [
    {
     "data": {
      "image/png": "[encoded data removed]",
      "text/plain": [
       "<matplotlib.figure.Figure at 0x1a27b65550>"
      ]
     },
     "metadata": {},
     "output_type": "display_data"
    }
   ],
   "source": [
    "train_scores = []\n",
    "test_scores = []\n",
    "oob_scores = []\n",
    "\n",
    "feature_range = range(1, 200, 5)\n",
    "for max_features in feature_range:\n",
    "    rf = RandomForestRegressor(max_features=max_features, oob_score=True,\n",
    "                               n_estimators=200, random_state=0)\n",
    "    rf.fit(X_train, y_train)\n",
    "    train_scores.append(rf.score(X_train, y_train))\n",
    "    test_scores.append(rf.score(X_test, y_test))\n",
    "    oob_scores.append(rf.oob_score_)\n",
    "    \n",
    "plt.plot(feature_range, test_scores, label=\"test scores\")\n",
    "plt.plot(feature_range, oob_scores, label=\"oob_scores scores\")\n",
    "plt.plot(feature_range, train_scores, label=\"train scores\")\n",
    "plt.legend()\n",
    "plt.ylabel(\"accuracy\")\n",
    "plt.xlabel(\"max_features\")\n",
    "plt.show()"
   ]
  },
  {
   "cell_type": "markdown",
   "metadata": {},
   "source": [
    "The Random Forest Regressor seems to start plateauing after 100 features, but still increases. Next I re-fit and test the model on the randomly split dataset (in order to evaluate on the iid assumption). The scores are shown in the plot below. The model seems to work as well on the iid data."
   ]
  },
  {
   "cell_type": "code",
   "execution_count": 125,
   "metadata": {},
   "outputs": [
    {
     "data": {
      "image/png": "[encoded data removed]",
      "text/plain": [
       "<matplotlib.figure.Figure at 0x1a2400e6a0>"
      ]
     },
     "metadata": {},
     "output_type": "display_data"
    }
   ],
   "source": [
    "import warnings\n",
    "warnings.filterwarnings('ignore')\n",
    "\n",
    "train_scores = []\n",
    "test_scores = []\n",
    "\n",
    "rf = RandomForestRegressor(warm_start=True)\n",
    "estimator_range = range(1, 100, 5)\n",
    "for n_estimators in estimator_range:\n",
    "    rf.n_estimators = n_estimators\n",
    "    rf.fit(X_train_iid, y_train_iid)\n",
    "    train_scores.append(rf.score(X_train_iid, y_train_iid))\n",
    "    test_scores.append(rf.score(X_test_iid, y_test_iid))\n",
    "    \n",
    "plt.plot(estimator_range, test_scores, label=\"test scores\")\n",
    "plt.plot(estimator_range, train_scores, label=\"train scores\")\n",
    "plt.ylabel(\"accuracy\")\n",
    "plt.xlabel(\"n_estimators\")\n",
    "plt.legend()\n",
    "plt.show()"
   ]
  },
  {
   "cell_type": "markdown",
   "metadata": {},
   "source": [
    "Based on the information I learned above, I'm going to stick with the Random Forest model for my feature selection."
   ]
  },
  {
   "cell_type": "markdown",
   "metadata": {},
   "source": [
    "### Task 4: Feature Selection\n",
    "Below I wanted to get a look how well the model performs on the top 25 features in the dataset."
   ]
  },
  {
   "cell_type": "code",
   "execution_count": 159,
   "metadata": {},
   "outputs": [
    {
     "data": {
      "image/png": "[encoded data removed]",
      "text/plain": [
       "<matplotlib.figure.Figure at 0x1a3f2a3c88>"
      ]
     },
     "metadata": {},
     "output_type": "display_data"
    }
   ],
   "source": [
    "train_scores = []\n",
    "test_scores = []\n",
    "\n",
    "feature_range = range(1, 25, 1)\n",
    "for max_features in feature_range:\n",
    "    rf = RandomForestRegressor(max_features=max_features, \n",
    "                               n_estimators=200, random_state=0)\n",
    "    rf.fit(X_train, y_train)\n",
    "    train_scores.append(rf.score(X_train, y_train))\n",
    "    test_scores.append(rf.score(X_test, y_test))\n",
    "    \n",
    "plt.plot(feature_range, test_scores, label=\"test scores\")\n",
    "plt.plot(feature_range, train_scores, label=\"train scores\")\n",
    "plt.legend()\n",
    "plt.ylabel(\"accuracy\")\n",
    "plt.xlabel(\"max_features\")\n",
    "plt.show()"
   ]
  },
  {
   "cell_type": "markdown",
   "metadata": {},
   "source": [
    "0.92 is a decent score, and with this information let's look at the feature importances in the plot below"
   ]
  },
  {
   "cell_type": "code",
   "execution_count": 160,
   "metadata": {},
   "outputs": [
    {
     "data": {
      "image/png": "[encoded data removed]",
      "text/plain": [
       "<matplotlib.figure.Figure at 0x1a377091d0>"
      ]
     },
     "metadata": {},
     "output_type": "display_data"
    }
   ],
   "source": [
    "rf.feature_importances_\n",
    "\n",
    "plt.barh(range(len(rf.feature_importances_)), rf.feature_importances_)\n",
    "plt.show()"
   ]
  },
  {
   "cell_type": "code",
   "execution_count": 161,
   "metadata": {},
   "outputs": [
    {
     "name": "stdout",
     "output_type": "stream",
     "text": [
      "Most important features: [2, 3, 9, 119, 15, 1, 124, 6, 4, 109, 88, 10, 121, 14, 8, 85, 11, 12, 113, 7, 5, 106, 112, 114, 13, 104, 118, 111, 107, 40, 70, 90, 110, 52, 0, 117, 262, 22, 45, 271, 49, 76, 20, 96, 69, 21, 28, 266, 51, 98, 120, 16, 47, 81, 194, 101, 19, 34, 100, 18, 63, 86, 260, 68, 270, 91, 71, 46, 263, 103, 37, 41, 264, 25, 60, 125, 56, 43, 268, 48, 23, 128, 131, 39, 36, 53, 265, 123, 130, 65, 31, 108, 78, 261, 219, 24, 92, 54, 97, 58, 77, 32, 79, 126, 62, 44, 29, 80, 267, 269, 145, 75, 42, 122, 72, 74, 84, 157, 240, 67, 38, 99, 226, 159, 105, 102, 146, 183, 82, 186, 30, 201, 129, 59, 224, 182, 61, 173, 127, 95, 188, 178, 225, 115, 66, 33, 93, 197, 132, 156, 217, 257, 153, 198, 218, 151, 203, 185, 235, 253, 164, 174, 213, 180, 214, 191, 244, 57, 172, 116, 195, 233, 133, 167, 258, 147, 35, 256, 171, 184, 210, 83, 144, 223, 138, 50, 142, 177, 143, 161, 170, 231, 94, 136, 204, 248, 245, 141, 135, 243, 150, 175, 176, 230, 215, 228, 166, 238, 229, 139, 206, 220, 227, 152, 149, 221, 27, 17, 189, 209, 202, 163, 199, 140, 169, 160, 64, 192, 148, 232, 205, 208, 134, 196, 158, 239, 187, 212, 190, 168, 234, 165, 241, 255, 254, 87, 249, 181, 222, 162, 250, 207, 242, 236, 251, 154, 193, 179, 246, 137, 200, 155, 237, 216, 259, 252, 247, 211, 26, 55, 73, 89]\n"
     ]
    }
   ],
   "source": [
    "important_features_dict = {}\n",
    "for x,i in enumerate(rf.feature_importances_):\n",
    "    important_features_dict[x]=i\n",
    "\n",
    "\n",
    "important_features_list = sorted(important_features_dict,\n",
    "                                 key=important_features_dict.get,\n",
    "                                 reverse=True)\n",
    "\n",
    "print ('Most important features: %s' %important_features_list)"
   ]
  },
  {
   "cell_type": "markdown",
   "metadata": {},
   "source": [
    "The 10 most important features are sorted in the array above, and their corresponding column names are shown in the array below:"
   ]
  },
  {
   "cell_type": "code",
   "execution_count": 162,
   "metadata": {},
   "outputs": [
    {
     "data": {
      "text/plain": [
       "['Eng Displ',\n",
       " '# Cyl',\n",
       " '4Dr Pass Vol',\n",
       " 'Drive Sys_F',\n",
       " 'Carline Class',\n",
       " 'Index (Model Type Index)',\n",
       " 'Car/Truck Category - Cash for Clunkers Bill._car',\n",
       " 'Max Biodiesel %',\n",
       " '# Gears',\n",
       " 'Trans_CVT']"
      ]
     },
     "execution_count": 162,
     "metadata": {},
     "output_type": "execute_result"
    }
   ],
   "source": [
    "list(X_train.iloc[:,[2,3,9,119,15,1,124,6,4,109]])"
   ]
  },
  {
   "cell_type": "markdown",
   "metadata": {},
   "source": [
    "These features are the most necessary to our model based on all the plots/analysis shown above. If we include just these features, the model behaves as follows:"
   ]
  },
  {
   "cell_type": "code",
   "execution_count": 164,
   "metadata": {},
   "outputs": [
    {
     "data": {
      "image/png": "[encoded data removed]",
      "text/plain": [
       "<matplotlib.figure.Figure at 0x1a3ca9ec50>"
      ]
     },
     "metadata": {},
     "output_type": "display_data"
    }
   ],
   "source": [
    "import warnings\n",
    "warnings.filterwarnings('ignore')\n",
    "\n",
    "new_X_train_iid = X_train_iid.iloc[:,[2,3,9,119,15,1,124,6,4,109]]\n",
    "new_X_test_iid = X_test_iid.iloc[:,[2,3,9,119,15,1,124,6,4,109]]\n",
    "\n",
    "train_scores = []\n",
    "test_scores = []\n",
    "\n",
    "rf = RandomForestRegressor(warm_start=True)\n",
    "estimator_range = range(1, 100, 5)\n",
    "for n_estimators in estimator_range:\n",
    "    rf.n_estimators = n_estimators\n",
    "    rf.fit(X_train_iid, y_train_iid)\n",
    "    train_scores.append(rf.score(X_train_iid, y_train_iid))\n",
    "    test_scores.append(rf.score(X_test_iid, y_test_iid))\n",
    "    \n",
    "plt.plot(estimator_range, test_scores, label=\"test scores\")\n",
    "plt.plot(estimator_range, train_scores, label=\"train scores\")\n",
    "plt.ylabel(\"accuracy\")\n",
    "plt.xlabel(\"n_estimators\")\n",
    "plt.legend()\n",
    "plt.show()"
   ]
  },
  {
   "cell_type": "markdown",
   "metadata": {},
   "source": [
    "As shown above, the data performs very well (arguably slightly better than before) with just those 10 features, which leads me to believe all the other features can be excluded from the dataset. Thus I would conclude that the best/most important features are: 'Eng Displ', '# Cyl', '4Dr Pass Vol', 'Drive Sys_F', 'Carline Class', 'Index (Model Type Index)', 'Car/Truck Category - Cash for Clunkers Bill.car','Max Biodiesel %','# Gears', 'Trans_CVT'. I looked up the most important factors in determining fuel economy and while it didn't mention all the features listed above, it did say number of gears and cylinders is important, which I think is a decent validation that this analysis is correct."
   ]
  }
 ],
 "metadata": {
  "kernelspec": {
   "display_name": "Python 3",
   "language": "python",
   "name": "python3"
  },
  "language_info": {
   "codemirror_mode": {
    "name": "ipython",
    "version": 3
   },
   "file_extension": ".py",
   "mimetype": "text/x-python",
   "name": "python",
   "nbconvert_exporter": "python",
   "pygments_lexer": "ipython3",
   "version": "3.6.3"
  }
 },
 "nbformat": 4,
 "nbformat_minor": 2
}
