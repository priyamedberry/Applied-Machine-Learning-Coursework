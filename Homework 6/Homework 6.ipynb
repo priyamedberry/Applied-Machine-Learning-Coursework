{
 "cells": [
  {
   "cell_type": "markdown",
   "metadata": {},
   "source": [
    "### Reading in the Data and Pre-processing"
   ]
  },
  {
   "cell_type": "code",
   "execution_count": 102,
   "metadata": {},
   "outputs": [],
   "source": [
    "import tensorflow as tf\n",
    "import numpy as np\n",
    "import keras as keras\n",
    "import pandas as pd\n",
    "import matplotlib.pyplot as plt\n",
    "from sklearn import datasets\n",
    "from keras.models import Sequential\n",
    "from keras.layers import Dense, Activation\n",
    "from sklearn.cross_validation import StratifiedShuffleSplit\n",
    "from keras.wrappers.scikit_learn import KerasClassifier, KerasRegressor\n",
    "from sklearn.model_selection import GridSearchCV\n",
    "from keras.regularizers import l1, Regularizer"
   ]
  },
  {
   "cell_type": "code",
   "execution_count": 124,
   "metadata": {},
   "outputs": [],
   "source": [
    "iris = datasets.load_iris()\n",
    "X = iris.data\n",
    "y = iris.target"
   ]
  },
  {
   "cell_type": "markdown",
   "metadata": {},
   "source": [
    "Next to split the dataset for the training and validation:"
   ]
  },
  {
   "cell_type": "code",
   "execution_count": 20,
   "metadata": {},
   "outputs": [],
   "source": [
    "sss = StratifiedShuffleSplit(y)"
   ]
  },
  {
   "cell_type": "code",
   "execution_count": 39,
   "metadata": {},
   "outputs": [],
   "source": [
    "for train_index, test_index in sss:\n",
    "    X_train, X_test = X[train_index], X[test_index]\n",
    "    y_train, y_test = y[train_index], y[test_index]\n",
    "\n",
    "num_classes = 3\n",
    "y_train = keras.utils.to_categorical(y_train, num_classes)\n",
    "y_test = keras.utils.to_categorical(y_test, num_classes)"
   ]
  },
  {
   "cell_type": "markdown",
   "metadata": {},
   "source": [
    "### Task 1: Multilayer perceptron\n",
    "Note: some of the following code was adapted from code presented in class"
   ]
  },
  {
   "cell_type": "code",
   "execution_count": 76,
   "metadata": {},
   "outputs": [],
   "source": [
    "def make_model(optimizer=\"adam\", hidden_size=32, kernel=0.0001):\n",
    "    model = Sequential([\n",
    "        Dense(hidden_size, input_dim=4, activation = 'relu', kernel_regularizer=l1(kernel)),\n",
    "        Dense(hidden_size, activation = 'relu'),\n",
    "        Dense(3, activation = 'softmax'),\n",
    "    ])\n",
    "    model.compile(optimizer=optimizer,loss=\"categorical_crossentropy\",   \n",
    "                  metrics=['accuracy'])\n",
    "    return model"
   ]
  },
  {
   "cell_type": "code",
   "execution_count": 77,
   "metadata": {},
   "outputs": [
    {
     "name": "stdout",
     "output_type": "stream",
     "text": [
      "Epoch 1/1\n",
      "90/90 [==============================] - 5s 50ms/step - loss: 1.4947 - acc: 0.3222\n",
      "45/45 [==============================] - 2s 34ms/step\n",
      "90/90 [==============================] - 0s 142us/step\n",
      "Epoch 1/1\n",
      "90/90 [==============================] - 4s 44ms/step - loss: 1.1916 - acc: 0.3111\n",
      "45/45 [==============================] - 2s 34ms/step\n",
      "90/90 [==============================] - 0s 173us/step\n",
      "Epoch 1/1\n",
      "90/90 [==============================] - 4s 46ms/step - loss: 1.3511 - acc: 0.3444\n",
      "45/45 [==============================] - 2s 35ms/step\n",
      "90/90 [==============================] - 0s 137us/step\n",
      "Epoch 1/1\n",
      "90/90 [==============================] - 4s 44ms/step - loss: 1.4420 - acc: 0.4556\n",
      "45/45 [==============================] - 2s 34ms/step\n",
      "90/90 [==============================] - 0s 124us/step\n",
      "Epoch 1/1\n",
      "90/90 [==============================] - 4s 47ms/step - loss: 1.3950 - acc: 0.3333\n",
      "45/45 [==============================] - 2s 39ms/step\n",
      "90/90 [==============================] - 0s 199us/step\n",
      "Epoch 1/1\n",
      "90/90 [==============================] - 4s 47ms/step - loss: 1.3496 - acc: 0.3889\n",
      "45/45 [==============================] - 2s 37ms/step\n",
      "90/90 [==============================] - 0s 126us/step\n",
      "Epoch 1/1\n",
      "90/90 [==============================] - 4s 48ms/step - loss: 4.0740 - acc: 0.0111\n",
      "45/45 [==============================] - 2s 40ms/step\n",
      "90/90 [==============================] - 0s 136us/step\n",
      "Epoch 1/1\n",
      "90/90 [==============================] - 5s 52ms/step - loss: 3.9800 - acc: 0.3778\n",
      "45/45 [==============================] - 2s 37ms/step\n",
      "90/90 [==============================] - 0s 128us/step\n",
      "Epoch 1/1\n",
      "90/90 [==============================] - 4s 46ms/step - loss: 4.3642 - acc: 0.3222\n",
      "45/45 [==============================] - 2s 38ms/step\n",
      "90/90 [==============================] - 0s 129us/step\n",
      "Epoch 1/1\n",
      "90/90 [==============================] - 4s 49ms/step - loss: 1.2980 - acc: 0.3222\n",
      "45/45 [==============================] - 2s 38ms/step\n",
      "90/90 [==============================] - 0s 128us/step\n",
      "Epoch 1/1\n",
      "90/90 [==============================] - 4s 48ms/step - loss: 1.1341 - acc: 0.4333\n",
      "45/45 [==============================] - 2s 39ms/step\n",
      "90/90 [==============================] - 0s 126us/step\n",
      "Epoch 1/1\n",
      "90/90 [==============================] - 5s 50ms/step - loss: 1.2230 - acc: 0.3444\n",
      "45/45 [==============================] - 2s 40ms/step\n",
      "90/90 [==============================] - 0s 128us/step\n",
      "Epoch 1/1\n",
      "90/90 [==============================] - 7s 78ms/step - loss: 1.6669 - acc: 0.3889\n",
      "45/45 [==============================] - 2s 43ms/step\n",
      "90/90 [==============================] - 0s 121us/step\n",
      "Epoch 1/1\n",
      "90/90 [==============================] - 5s 56ms/step - loss: 1.8021 - acc: 0.2444\n",
      "45/45 [==============================] - 3s 61ms/step\n",
      "90/90 [==============================] - 0s 1ms/step\n",
      "Epoch 1/1\n",
      "90/90 [==============================] - 5s 59ms/step - loss: 1.9776 - acc: 0.3222\n",
      "45/45 [==============================] - 2s 46ms/step\n",
      "90/90 [==============================] - 0s 119us/step\n",
      "Epoch 1/1\n",
      "90/90 [==============================] - 8s 90ms/step - loss: 4.7864 - acc: 0.2889\n",
      "45/45 [==============================] - 2s 46ms/step\n",
      "90/90 [==============================] - 0s 143us/step\n",
      "Epoch 1/1\n",
      "90/90 [==============================] - 9s 98ms/step - loss: 5.2679 - acc: 0.3778\n",
      "45/45 [==============================] - 4s 86ms/step\n",
      "90/90 [==============================] - 0s 130us/step\n",
      "Epoch 1/1\n",
      "90/90 [==============================] - 5s 55ms/step - loss: 5.1293 - acc: 0.3222\n",
      "45/45 [==============================] - 2s 44ms/step\n",
      "90/90 [==============================] - 0s 175us/step\n",
      "Epoch 1/1\n",
      "90/90 [==============================] - 6s 68ms/step - loss: 1.4316 - acc: 0.2556\n",
      "45/45 [==============================] - 2s 44ms/step\n",
      "90/90 [==============================] - 0s 132us/step\n",
      "Epoch 1/1\n",
      "90/90 [==============================] - 5s 57ms/step - loss: 1.1798 - acc: 0.4000\n",
      "45/45 [==============================] - 2s 49ms/step\n",
      "90/90 [==============================] - 0s 131us/step\n",
      "Epoch 1/1\n",
      "90/90 [==============================] - 5s 55ms/step - loss: 1.3034 - acc: 0.2556\n",
      "45/45 [==============================] - 2s 43ms/step\n",
      "90/90 [==============================] - 0s 117us/step\n",
      "Epoch 1/1\n",
      "90/90 [==============================] - 5s 55ms/step - loss: 1.9409 - acc: 0.5000\n",
      "45/45 [==============================] - 2s 43ms/step\n",
      "90/90 [==============================] - 0s 124us/step\n",
      "Epoch 1/1\n",
      "90/90 [==============================] - 5s 59ms/step - loss: 1.8846 - acc: 0.4444\n",
      "45/45 [==============================] - 2s 47ms/step\n",
      "90/90 [==============================] - 0s 128us/step\n",
      "Epoch 1/1\n",
      "90/90 [==============================] - 8s 84ms/step - loss: 1.8966 - acc: 0.4444\n",
      "45/45 [==============================] - 2s 55ms/step\n",
      "90/90 [==============================] - 0s 146us/step\n",
      "Epoch 1/1\n",
      "90/90 [==============================] - 6s 63ms/step - loss: 8.5923 - acc: 0.3889\n",
      "45/45 [==============================] - 2s 48ms/step\n",
      "90/90 [==============================] - 0s 140us/step\n",
      "Epoch 1/1\n",
      "90/90 [==============================] - 5s 57ms/step - loss: 8.9101 - acc: 0.4778\n",
      "45/45 [==============================] - 2s 47ms/step\n",
      "90/90 [==============================] - 0s 138us/step\n",
      "Epoch 1/1\n",
      "90/90 [==============================] - 6s 64ms/step - loss: 8.6644 - acc: 0.4778\n",
      "45/45 [==============================] - 3s 72ms/step\n",
      "90/90 [==============================] - 0s 143us/step\n",
      "Epoch 1/1\n",
      "135/135 [==============================] - 7s 54ms/step - loss: 1.6470 - acc: 0.6000\n"
     ]
    },
    {
     "data": {
      "text/plain": [
       "GridSearchCV(cv=3, error_score='raise',\n",
       "       estimator=<keras.wrappers.scikit_learn.KerasClassifier object at 0x1515b64e0>,\n",
       "       fit_params=None, iid=True, n_jobs=1,\n",
       "       param_grid={'kernel': [0.001, 0.01, 0.1], 'hidden_size': [32, 64, 256]},\n",
       "       pre_dispatch='2*n_jobs', refit=True, return_train_score='warn',\n",
       "       scoring=None, verbose=0)"
      ]
     },
     "execution_count": 77,
     "metadata": {},
     "output_type": "execute_result"
    }
   ],
   "source": [
    "clf = KerasClassifier(make_model)\n",
    "param_grid = {'kernel': [0.001, 0.01, 0.1],\n",
    "              'hidden_size': [32, 64, 256]}\n",
    "grid = GridSearchCV(clf, param_grid=param_grid, cv=3)\n",
    "grid.fit(X_train, y_train)"
   ]
  },
  {
   "cell_type": "markdown",
   "metadata": {},
   "source": [
    "I'm not quite sure why the accuracy scores are so low, and I played around with the regularization settings but I couldn't get the scores to improve."
   ]
  },
  {
   "cell_type": "code",
   "execution_count": 80,
   "metadata": {},
   "outputs": [
    {
     "data": {
      "text/plain": [
       "{'hidden_size': 256, 'kernel': 0.01}"
      ]
     },
     "execution_count": 80,
     "metadata": {},
     "output_type": "execute_result"
    }
   ],
   "source": [
    "grid.best_params_"
   ]
  },
  {
   "cell_type": "code",
   "execution_count": 81,
   "metadata": {},
   "outputs": [
    {
     "name": "stdout",
     "output_type": "stream",
     "text": [
      "\r",
      "15/15 [==============================] - 5s 344ms/step\n"
     ]
    },
    {
     "data": {
      "text/plain": [
       "0.6666666865348816"
      ]
     },
     "execution_count": 81,
     "metadata": {},
     "output_type": "execute_result"
    }
   ],
   "source": [
    "grid.score(X_test,y_test)"
   ]
  },
  {
   "cell_type": "markdown",
   "metadata": {},
   "source": [
    "The final score isn't as high as I would like, or makes sense, considering this was a fairly straightforward task. I fiddled around with the model a bit but I couldn't figure out how to get a higher accuracy score (I didn't show the other models because I interrupted them partway through)."
   ]
  },
  {
   "cell_type": "markdown",
   "metadata": {},
   "source": [
    "### Task 2: Vanilla vs Drop-out Model on MNIST dataset\n",
    "\n",
    "First to read in the data"
   ]
  },
  {
   "cell_type": "code",
   "execution_count": 82,
   "metadata": {},
   "outputs": [
    {
     "name": "stdout",
     "output_type": "stream",
     "text": [
      "Downloading data from https://s3.amazonaws.com/img-datasets/mnist.npz\n",
      "11493376/11490434 [==============================] - 2s 0us/step\n",
      "60000 train samples\n",
      "10000 test samples\n"
     ]
    }
   ],
   "source": [
    "from keras.datasets import mnist\n",
    "\n",
    "(X_train2, y_train2), (X_test2, y_test2) = mnist.load_data()\n",
    "\n",
    "X_train2 = X_train2.reshape(60000, 784)\n",
    "X_test2 = X_test2.reshape(10000, 784)\n",
    "X_train2 = X_train2.astype('float32')\n",
    "X_test2 = X_test2.astype('float32')\n",
    "X_train2 /= 255\n",
    "X_test2 /= 255\n",
    "print(X_train2.shape[0], 'train samples')\n",
    "print(X_test2.shape[0], 'test samples')\n",
    "\n",
    "num_classes = 10\n",
    "# convert class vectors to binary class matrices\n",
    "y_train2 = keras.utils.to_categorical(y_train2, num_classes)\n",
    "y_test2 = keras.utils.to_categorical(y_test2, num_classes)"
   ]
  },
  {
   "cell_type": "markdown",
   "metadata": {},
   "source": [
    "Next to set up the vanilla model:"
   ]
  },
  {
   "cell_type": "code",
   "execution_count": 109,
   "metadata": {
    "collapsed": true
   },
   "outputs": [],
   "source": [
    "v_model = Sequential([\n",
    "    Dense(256, input_shape=(784,), activation='relu'),\n",
    "    Dense(256, activation='relu'),\n",
    "    Dense(10, activation='softmax'),\n",
    "])\n",
    "\n",
    "\n",
    "v_model.compile(\"adam\", \"categorical_crossentropy\", metrics=['accuracy'])"
   ]
  },
  {
   "cell_type": "code",
   "execution_count": 110,
   "metadata": {},
   "outputs": [
    {
     "name": "stdout",
     "output_type": "stream",
     "text": [
      "Train on 49980 samples, validate on 10020 samples\n",
      "Epoch 1/100\n",
      "49980/49980 [==============================] - 16s 330us/step - loss: 0.2900 - acc: 0.9159 - val_loss: 0.1273 - val_acc: 0.9646\n",
      "Epoch 2/100\n",
      "49980/49980 [==============================] - 5s 104us/step - loss: 0.1105 - acc: 0.9671 - val_loss: 0.0923 - val_acc: 0.9725\n",
      "Epoch 3/100\n",
      "49980/49980 [==============================] - 5s 107us/step - loss: 0.0711 - acc: 0.9782 - val_loss: 0.0787 - val_acc: 0.9755\n",
      "Epoch 4/100\n",
      "49980/49980 [==============================] - 5s 99us/step - loss: 0.0480 - acc: 0.9853 - val_loss: 0.0786 - val_acc: 0.9754\n",
      "Epoch 5/100\n",
      "49980/49980 [==============================] - 5s 100us/step - loss: 0.0381 - acc: 0.9879 - val_loss: 0.0871 - val_acc: 0.9756\n",
      "Epoch 6/100\n",
      "49980/49980 [==============================] - 5s 104us/step - loss: 0.0279 - acc: 0.9914 - val_loss: 0.0752 - val_acc: 0.9787\n",
      "Epoch 7/100\n",
      "49980/49980 [==============================] - 5s 104us/step - loss: 0.0205 - acc: 0.9937 - val_loss: 0.0761 - val_acc: 0.9781\n",
      "Epoch 8/100\n",
      "49980/49980 [==============================] - 5s 101us/step - loss: 0.0179 - acc: 0.9943 - val_loss: 0.0985 - val_acc: 0.9740\n",
      "Epoch 9/100\n",
      "49980/49980 [==============================] - 5s 99us/step - loss: 0.0144 - acc: 0.9953 - val_loss: 0.0834 - val_acc: 0.9798\n",
      "Epoch 10/100\n",
      "49980/49980 [==============================] - 5s 100us/step - loss: 0.0148 - acc: 0.9947 - val_loss: 0.0904 - val_acc: 0.9766\n",
      "Epoch 11/100\n",
      "49980/49980 [==============================] - 5s 101us/step - loss: 0.0149 - acc: 0.9951 - val_loss: 0.0841 - val_acc: 0.9790\n",
      "Epoch 12/100\n",
      "49980/49980 [==============================] - 5s 101us/step - loss: 0.0093 - acc: 0.9968 - val_loss: 0.0962 - val_acc: 0.9775\n",
      "Epoch 13/100\n",
      "49980/49980 [==============================] - 5s 101us/step - loss: 0.0096 - acc: 0.9969 - val_loss: 0.0940 - val_acc: 0.9799\n",
      "Epoch 14/100\n",
      "49980/49980 [==============================] - 6s 110us/step - loss: 0.0125 - acc: 0.9958 - val_loss: 0.1013 - val_acc: 0.9792\n",
      "Epoch 15/100\n",
      "49980/49980 [==============================] - 6s 112us/step - loss: 0.0072 - acc: 0.9977 - val_loss: 0.0887 - val_acc: 0.9808\n",
      "Epoch 16/100\n",
      "49980/49980 [==============================] - 5s 105us/step - loss: 0.0082 - acc: 0.9972 - val_loss: 0.1163 - val_acc: 0.9756\n",
      "Epoch 17/100\n",
      "49980/49980 [==============================] - 5s 107us/step - loss: 0.0084 - acc: 0.9972 - val_loss: 0.1025 - val_acc: 0.9800\n",
      "Epoch 18/100\n",
      "49980/49980 [==============================] - 5s 104us/step - loss: 0.0097 - acc: 0.9967 - val_loss: 0.1062 - val_acc: 0.9787\n",
      "Epoch 19/100\n",
      "49980/49980 [==============================] - 5s 107us/step - loss: 0.0081 - acc: 0.9975 - val_loss: 0.0991 - val_acc: 0.9813\n",
      "Epoch 20/100\n",
      "49980/49980 [==============================] - 5s 102us/step - loss: 0.0042 - acc: 0.9986 - val_loss: 0.1075 - val_acc: 0.9801\n",
      "Epoch 21/100\n",
      "49980/49980 [==============================] - 5s 103us/step - loss: 0.0092 - acc: 0.9971 - val_loss: 0.1206 - val_acc: 0.9752\n",
      "Epoch 22/100\n",
      "49980/49980 [==============================] - 5s 104us/step - loss: 0.0113 - acc: 0.9962 - val_loss: 0.1143 - val_acc: 0.9790\n",
      "Epoch 23/100\n",
      "49980/49980 [==============================] - 5s 109us/step - loss: 0.0072 - acc: 0.9977 - val_loss: 0.1021 - val_acc: 0.9797\n",
      "Epoch 24/100\n",
      "49980/49980 [==============================] - 5s 103us/step - loss: 0.0041 - acc: 0.9987 - val_loss: 0.1049 - val_acc: 0.9803\n",
      "Epoch 25/100\n",
      "49980/49980 [==============================] - 5s 106us/step - loss: 0.0048 - acc: 0.9986 - val_loss: 0.1175 - val_acc: 0.9794\n",
      "Epoch 26/100\n",
      "49980/49980 [==============================] - 5s 105us/step - loss: 0.0017 - acc: 0.9994 - val_loss: 0.1278 - val_acc: 0.9779\n",
      "Epoch 27/100\n",
      "49980/49980 [==============================] - 5s 104us/step - loss: 0.0106 - acc: 0.9971 - val_loss: 0.1236 - val_acc: 0.9799\n",
      "Epoch 28/100\n",
      "49980/49980 [==============================] - 5s 108us/step - loss: 0.0059 - acc: 0.9983 - val_loss: 0.0999 - val_acc: 0.9802\n",
      "Epoch 29/100\n",
      "49980/49980 [==============================] - 5s 106us/step - loss: 0.0074 - acc: 0.9975 - val_loss: 0.1056 - val_acc: 0.9809\n",
      "Epoch 30/100\n",
      "49980/49980 [==============================] - 5s 108us/step - loss: 0.0040 - acc: 0.9985 - val_loss: 0.1054 - val_acc: 0.9815\n",
      "Epoch 31/100\n",
      "49980/49980 [==============================] - 5s 106us/step - loss: 0.0060 - acc: 0.9984 - val_loss: 0.1035 - val_acc: 0.9804\n",
      "Epoch 32/100\n",
      "49980/49980 [==============================] - 5s 107us/step - loss: 0.0053 - acc: 0.9980 - val_loss: 0.1077 - val_acc: 0.9813\n",
      "Epoch 33/100\n",
      "49980/49980 [==============================] - 5s 105us/step - loss: 0.0025 - acc: 0.9993 - val_loss: 0.1075 - val_acc: 0.9812\n",
      "Epoch 34/100\n",
      "49980/49980 [==============================] - 5s 107us/step - loss: 0.0068 - acc: 0.9980 - val_loss: 0.1126 - val_acc: 0.9788\n",
      "Epoch 35/100\n",
      "49980/49980 [==============================] - 6s 110us/step - loss: 0.0041 - acc: 0.9988 - val_loss: 0.1105 - val_acc: 0.9804\n",
      "Epoch 36/100\n",
      "49980/49980 [==============================] - 6s 115us/step - loss: 0.0027 - acc: 0.9990 - val_loss: 0.1255 - val_acc: 0.9783\n",
      "Epoch 37/100\n",
      "49980/49980 [==============================] - 7s 137us/step - loss: 0.0083 - acc: 0.9973 - val_loss: 0.1248 - val_acc: 0.9793\n",
      "Epoch 38/100\n",
      "49980/49980 [==============================] - 8s 154us/step - loss: 0.0047 - acc: 0.9985 - val_loss: 0.1338 - val_acc: 0.9785\n",
      "Epoch 39/100\n",
      "49980/49980 [==============================] - 7s 143us/step - loss: 0.0020 - acc: 0.9993 - val_loss: 0.1090 - val_acc: 0.9823\n",
      "Epoch 40/100\n",
      "49980/49980 [==============================] - 7s 140us/step - loss: 0.0041 - acc: 0.9989 - val_loss: 0.1349 - val_acc: 0.9796\n",
      "Epoch 41/100\n",
      "49980/49980 [==============================] - 7s 139us/step - loss: 0.0040 - acc: 0.9987 - val_loss: 0.1237 - val_acc: 0.9792\n",
      "Epoch 42/100\n",
      "49980/49980 [==============================] - 7s 137us/step - loss: 0.0055 - acc: 0.9982 - val_loss: 0.1294 - val_acc: 0.9796\n",
      "Epoch 43/100\n",
      "49980/49980 [==============================] - 7s 141us/step - loss: 0.0067 - acc: 0.9979 - val_loss: 0.1225 - val_acc: 0.9807\n",
      "Epoch 44/100\n",
      "49980/49980 [==============================] - 7s 142us/step - loss: 0.0053 - acc: 0.9983 - val_loss: 0.1242 - val_acc: 0.9811\n",
      "Epoch 45/100\n",
      "49980/49980 [==============================] - 7s 134us/step - loss: 0.0054 - acc: 0.9982 - val_loss: 0.1301 - val_acc: 0.9800\n",
      "Epoch 46/100\n",
      "49980/49980 [==============================] - 7s 134us/step - loss: 0.0044 - acc: 0.9987 - val_loss: 0.1134 - val_acc: 0.9815\n",
      "Epoch 47/100\n",
      "49980/49980 [==============================] - 7s 134us/step - loss: 0.0018 - acc: 0.9994 - val_loss: 0.1233 - val_acc: 0.9812\n",
      "Epoch 48/100\n",
      "49980/49980 [==============================] - 7s 132us/step - loss: 0.0042 - acc: 0.9987 - val_loss: 0.1224 - val_acc: 0.9805\n",
      "Epoch 49/100\n",
      "49980/49980 [==============================] - 7s 140us/step - loss: 0.0040 - acc: 0.9989 - val_loss: 0.1298 - val_acc: 0.9796\n",
      "Epoch 50/100\n",
      "49980/49980 [==============================] - 7s 132us/step - loss: 0.0076 - acc: 0.9977 - val_loss: 0.1351 - val_acc: 0.9784\n",
      "Epoch 51/100\n",
      "49980/49980 [==============================] - 7s 135us/step - loss: 0.0035 - acc: 0.9988 - val_loss: 0.1097 - val_acc: 0.9808\n",
      "Epoch 52/100\n",
      "49980/49980 [==============================] - 7s 141us/step - loss: 0.0021 - acc: 0.9994 - val_loss: 0.1265 - val_acc: 0.9818\n",
      "Epoch 53/100\n",
      "49980/49980 [==============================] - 7s 131us/step - loss: 7.3698e-04 - acc: 0.9998 - val_loss: 0.1173 - val_acc: 0.9822\n",
      "Epoch 54/100\n",
      "49980/49980 [==============================] - 6s 120us/step - loss: 5.1675e-04 - acc: 0.9999 - val_loss: 0.1076 - val_acc: 0.9831\n",
      "Epoch 55/100\n",
      "49980/49980 [==============================] - 6s 113us/step - loss: 2.4086e-05 - acc: 1.0000 - val_loss: 0.1050 - val_acc: 0.9840\n",
      "Epoch 56/100\n",
      "49980/49980 [==============================] - 6s 116us/step - loss: 9.2611e-06 - acc: 1.0000 - val_loss: 0.1049 - val_acc: 0.9837\n",
      "Epoch 57/100\n",
      "49980/49980 [==============================] - 6s 113us/step - loss: 7.5124e-06 - acc: 1.0000 - val_loss: 0.1049 - val_acc: 0.9839\n",
      "Epoch 58/100\n",
      "49980/49980 [==============================] - 6s 112us/step - loss: 6.3150e-06 - acc: 1.0000 - val_loss: 0.1050 - val_acc: 0.9838\n",
      "Epoch 59/100\n"
     ]
    },
    {
     "name": "stdout",
     "output_type": "stream",
     "text": [
      "49980/49980 [==============================] - 5s 95us/step - loss: 5.3921e-06 - acc: 1.0000 - val_loss: 0.1051 - val_acc: 0.9839\n",
      "Epoch 60/100\n",
      "49980/49980 [==============================] - 5s 96us/step - loss: 4.6378e-06 - acc: 1.0000 - val_loss: 0.1053 - val_acc: 0.9838\n",
      "Epoch 61/100\n",
      "49980/49980 [==============================] - 5s 95us/step - loss: 4.0104e-06 - acc: 1.0000 - val_loss: 0.1055 - val_acc: 0.9841\n",
      "Epoch 62/100\n",
      "49980/49980 [==============================] - 5s 96us/step - loss: 3.4621e-06 - acc: 1.0000 - val_loss: 0.1056 - val_acc: 0.9841\n",
      "Epoch 63/100\n",
      "49980/49980 [==============================] - 5s 97us/step - loss: 2.9901e-06 - acc: 1.0000 - val_loss: 0.1060 - val_acc: 0.9841\n",
      "Epoch 64/100\n",
      "49980/49980 [==============================] - 5s 97us/step - loss: 2.5853e-06 - acc: 1.0000 - val_loss: 0.1063 - val_acc: 0.9841\n",
      "Epoch 65/100\n",
      "49980/49980 [==============================] - 5s 98us/step - loss: 2.2284e-06 - acc: 1.0000 - val_loss: 0.1066 - val_acc: 0.9842\n",
      "Epoch 66/100\n",
      "49980/49980 [==============================] - 5s 98us/step - loss: 1.9213e-06 - acc: 1.0000 - val_loss: 0.1070 - val_acc: 0.9844\n",
      "Epoch 67/100\n",
      "49980/49980 [==============================] - 5s 97us/step - loss: 1.6540e-06 - acc: 1.0000 - val_loss: 0.1074 - val_acc: 0.9842\n",
      "Epoch 68/100\n",
      "49980/49980 [==============================] - 5s 99us/step - loss: 1.4265e-06 - acc: 1.0000 - val_loss: 0.1079 - val_acc: 0.9841\n",
      "Epoch 69/100\n",
      "49980/49980 [==============================] - 5s 110us/step - loss: 1.2272e-06 - acc: 1.0000 - val_loss: 0.1084 - val_acc: 0.9841\n",
      "Epoch 70/100\n",
      "49980/49980 [==============================] - 6s 118us/step - loss: 1.0559e-06 - acc: 1.0000 - val_loss: 0.1089 - val_acc: 0.9842\n",
      "Epoch 71/100\n",
      "49980/49980 [==============================] - 5s 104us/step - loss: 9.1145e-07 - acc: 1.0000 - val_loss: 0.1095 - val_acc: 0.9843\n",
      "Epoch 72/100\n",
      "49980/49980 [==============================] - 5s 105us/step - loss: 7.8518e-07 - acc: 1.0000 - val_loss: 0.1100 - val_acc: 0.9844\n",
      "Epoch 73/100\n",
      "49980/49980 [==============================] - 5s 102us/step - loss: 6.7636e-07 - acc: 1.0000 - val_loss: 0.1106 - val_acc: 0.9844\n",
      "Epoch 74/100\n",
      "49980/49980 [==============================] - 5s 100us/step - loss: 5.8798e-07 - acc: 1.0000 - val_loss: 0.1112 - val_acc: 0.9847\n",
      "Epoch 75/100\n",
      "49980/49980 [==============================] - 5s 100us/step - loss: 5.0866e-07 - acc: 1.0000 - val_loss: 0.1118 - val_acc: 0.9844\n",
      "Epoch 76/100\n",
      "49980/49980 [==============================] - 5s 103us/step - loss: 4.4499e-07 - acc: 1.0000 - val_loss: 0.1125 - val_acc: 0.9844\n",
      "Epoch 77/100\n",
      "49980/49980 [==============================] - 5s 101us/step - loss: 3.9065e-07 - acc: 1.0000 - val_loss: 0.1132 - val_acc: 0.9844\n",
      "Epoch 78/100\n",
      "49980/49980 [==============================] - 5s 100us/step - loss: 3.4496e-07 - acc: 1.0000 - val_loss: 0.1137 - val_acc: 0.9841\n",
      "Epoch 79/100\n",
      "49980/49980 [==============================] - 5s 102us/step - loss: 3.0654e-07 - acc: 1.0000 - val_loss: 0.1143 - val_acc: 0.9841\n",
      "Epoch 80/100\n",
      "49980/49980 [==============================] - 5s 103us/step - loss: 2.7549e-07 - acc: 1.0000 - val_loss: 0.1151 - val_acc: 0.9842\n",
      "Epoch 81/100\n",
      "49980/49980 [==============================] - 5s 99us/step - loss: 2.4823e-07 - acc: 1.0000 - val_loss: 0.1157 - val_acc: 0.9844\n",
      "Epoch 82/100\n",
      "49980/49980 [==============================] - 5s 102us/step - loss: 2.2584e-07 - acc: 1.0000 - val_loss: 0.1163 - val_acc: 0.9846\n",
      "Epoch 83/100\n",
      "49980/49980 [==============================] - 5s 100us/step - loss: 2.0761e-07 - acc: 1.0000 - val_loss: 0.1169 - val_acc: 0.9846\n",
      "Epoch 84/100\n",
      "49980/49980 [==============================] - 5s 100us/step - loss: 1.9204e-07 - acc: 1.0000 - val_loss: 0.1177 - val_acc: 0.9847\n",
      "Epoch 85/100\n",
      "49980/49980 [==============================] - 5s 102us/step - loss: 1.7973e-07 - acc: 1.0000 - val_loss: 0.1182 - val_acc: 0.9846\n",
      "Epoch 86/100\n",
      "49980/49980 [==============================] - 6s 110us/step - loss: 1.6887e-07 - acc: 1.0000 - val_loss: 0.1188 - val_acc: 0.9845\n",
      "Epoch 87/100\n",
      "49980/49980 [==============================] - 5s 106us/step - loss: 1.6038e-07 - acc: 1.0000 - val_loss: 0.1194 - val_acc: 0.9846\n",
      "Epoch 88/100\n",
      "49980/49980 [==============================] - 6s 110us/step - loss: 1.5338e-07 - acc: 1.0000 - val_loss: 0.1199 - val_acc: 0.9845\n",
      "Epoch 89/100\n",
      "49980/49980 [==============================] - 5s 106us/step - loss: 1.4728e-07 - acc: 1.0000 - val_loss: 0.1205 - val_acc: 0.9846\n",
      "Epoch 90/100\n",
      "49980/49980 [==============================] - 5s 102us/step - loss: 1.4235e-07 - acc: 1.0000 - val_loss: 0.1213 - val_acc: 0.9848\n",
      "Epoch 91/100\n",
      "49980/49980 [==============================] - 5s 105us/step - loss: 1.3821e-07 - acc: 1.0000 - val_loss: 0.1219 - val_acc: 0.9846\n",
      "Epoch 92/100\n",
      "49980/49980 [==============================] - 5s 104us/step - loss: 1.3498e-07 - acc: 1.0000 - val_loss: 0.1224 - val_acc: 0.9848\n",
      "Epoch 93/100\n",
      "49980/49980 [==============================] - 5s 101us/step - loss: 1.3211e-07 - acc: 1.0000 - val_loss: 0.1227 - val_acc: 0.9846\n",
      "Epoch 94/100\n",
      "49980/49980 [==============================] - 5s 102us/step - loss: 1.2992e-07 - acc: 1.0000 - val_loss: 0.1234 - val_acc: 0.9846\n",
      "Epoch 95/100\n",
      "49980/49980 [==============================] - 5s 101us/step - loss: 1.2798e-07 - acc: 1.0000 - val_loss: 0.1241 - val_acc: 0.9846\n",
      "Epoch 96/100\n",
      "49980/49980 [==============================] - 5s 102us/step - loss: 1.2647e-07 - acc: 1.0000 - val_loss: 0.1245 - val_acc: 0.9846\n",
      "Epoch 97/100\n",
      "49980/49980 [==============================] - 5s 102us/step - loss: 1.2518e-07 - acc: 1.0000 - val_loss: 0.1249 - val_acc: 0.9846\n",
      "Epoch 98/100\n",
      "49980/49980 [==============================] - 5s 104us/step - loss: 1.2407e-07 - acc: 1.0000 - val_loss: 0.1254 - val_acc: 0.9846\n",
      "Epoch 99/100\n",
      "49980/49980 [==============================] - 5s 102us/step - loss: 1.2319e-07 - acc: 1.0000 - val_loss: 0.1258 - val_acc: 0.9846\n",
      "Epoch 100/100\n",
      "49980/49980 [==============================] - 5s 103us/step - loss: 1.2246e-07 - acc: 1.0000 - val_loss: 0.1261 - val_acc: 0.9846\n"
     ]
    }
   ],
   "source": [
    "history_callback = v_model.fit(X_train2, y_train2, batch_size=128,\n",
    "                             epochs=100, verbose=1, validation_split=.167)"
   ]
  },
  {
   "cell_type": "markdown",
   "metadata": {},
   "source": [
    "Not surprisingly, the model trains well, with a very high validation score. Next to plot the training and validation accuracy/error rates against number of epochs:"
   ]
  },
  {
   "cell_type": "code",
   "execution_count": 111,
   "metadata": {},
   "outputs": [],
   "source": [
    "def plot_history(logger):\n",
    "    df = pd.DataFrame(logger.history)\n",
    "    df[['acc', 'val_acc']].plot()\n",
    "    plt.ylabel(\"accuracy\")\n",
    "    df[['loss', 'val_loss']].plot(linestyle='--', ax=plt.twinx())\n",
    "    plt.ylabel(\"loss\")"
   ]
  },
  {
   "cell_type": "code",
   "execution_count": 112,
   "metadata": {},
   "outputs": [
    {
     "data": {
      "image/png": "[encoded data removed]",
      "text/plain": [
       "<matplotlib.figure.Figure at 0x15d574d68>"
      ]
     },
     "metadata": {},
     "output_type": "display_data"
    }
   ],
   "source": [
    "df = pd.DataFrame(history_callback.history)\n",
    "df[['acc', 'val_acc']].plot()\n",
    "plt.ylabel(\"accuracy\")\n",
    "df[['loss', 'val_loss']].plot(linestyle='--', ax=plt.twinx())\n",
    "plt.ylabel(\"loss\")\n",
    "plt.show()"
   ]
  },
  {
   "cell_type": "markdown",
   "metadata": {},
   "source": [
    "As makes sense the validation score is less than the training score, but both are about 0.98 as num_epochs reaches 100, which is a perfectly acceptable score.\n",
    "\n",
    "Next to try the model with drop-out:"
   ]
  },
  {
   "cell_type": "code",
   "execution_count": 113,
   "metadata": {},
   "outputs": [],
   "source": [
    "from keras.layers import Dropout\n",
    "\n",
    "model_dropout = Sequential([\n",
    "    Dense(1024, input_shape=(784,), activation='relu'),\n",
    "    Dropout(.5),\n",
    "    Dense(1024, activation='relu'),\n",
    "    Dropout(.5),\n",
    "    Dense(10, activation='softmax'),\n",
    "])\n",
    "model_dropout.compile(\"adam\", \"categorical_crossentropy\", metrics=['accuracy'])"
   ]
  },
  {
   "cell_type": "code",
   "execution_count": 114,
   "metadata": {},
   "outputs": [
    {
     "name": "stdout",
     "output_type": "stream",
     "text": [
      "Train on 49980 samples, validate on 10020 samples\n",
      "Epoch 1/20\n",
      "49980/49980 [==============================] - 36s 728us/step - loss: 0.3056 - acc: 0.9056 - val_loss: 0.1302 - val_acc: 0.9596\n",
      "Epoch 2/20\n",
      "49980/49980 [==============================] - 27s 537us/step - loss: 0.1469 - acc: 0.9552 - val_loss: 0.0913 - val_acc: 0.9732\n",
      "Epoch 3/20\n",
      "49980/49980 [==============================] - 26s 515us/step - loss: 0.1119 - acc: 0.9649 - val_loss: 0.0835 - val_acc: 0.9750\n",
      "Epoch 4/20\n",
      "49980/49980 [==============================] - 25s 509us/step - loss: 0.0936 - acc: 0.9710 - val_loss: 0.0780 - val_acc: 0.9763\n",
      "Epoch 5/20\n",
      "49980/49980 [==============================] - 25s 504us/step - loss: 0.0819 - acc: 0.9739 - val_loss: 0.0730 - val_acc: 0.9780\n",
      "Epoch 6/20\n",
      "49980/49980 [==============================] - 26s 521us/step - loss: 0.0740 - acc: 0.9765 - val_loss: 0.0667 - val_acc: 0.9799\n",
      "Epoch 7/20\n",
      "49980/49980 [==============================] - 26s 516us/step - loss: 0.0671 - acc: 0.9788 - val_loss: 0.0668 - val_acc: 0.9810\n",
      "Epoch 8/20\n",
      "49980/49980 [==============================] - 26s 519us/step - loss: 0.0636 - acc: 0.9796 - val_loss: 0.0818 - val_acc: 0.9777\n",
      "Epoch 9/20\n",
      "49980/49980 [==============================] - 27s 531us/step - loss: 0.0639 - acc: 0.9801 - val_loss: 0.0711 - val_acc: 0.9805\n",
      "Epoch 10/20\n",
      "49980/49980 [==============================] - 26s 511us/step - loss: 0.0557 - acc: 0.9826 - val_loss: 0.0717 - val_acc: 0.9806\n",
      "Epoch 11/20\n",
      "49980/49980 [==============================] - 26s 525us/step - loss: 0.0524 - acc: 0.9833 - val_loss: 0.0721 - val_acc: 0.9809\n",
      "Epoch 12/20\n",
      "49980/49980 [==============================] - 26s 515us/step - loss: 0.0502 - acc: 0.9845 - val_loss: 0.0729 - val_acc: 0.9804\n",
      "Epoch 13/20\n",
      "49980/49980 [==============================] - 26s 512us/step - loss: 0.0519 - acc: 0.9843 - val_loss: 0.0780 - val_acc: 0.9811\n",
      "Epoch 14/20\n",
      "49980/49980 [==============================] - 26s 513us/step - loss: 0.0483 - acc: 0.9845 - val_loss: 0.0735 - val_acc: 0.9825\n",
      "Epoch 15/20\n",
      "49980/49980 [==============================] - 26s 524us/step - loss: 0.0484 - acc: 0.9849 - val_loss: 0.0768 - val_acc: 0.9803\n",
      "Epoch 16/20\n",
      "49980/49980 [==============================] - 26s 521us/step - loss: 0.0406 - acc: 0.9873 - val_loss: 0.0732 - val_acc: 0.9835\n",
      "Epoch 17/20\n",
      "49980/49980 [==============================] - 26s 514us/step - loss: 0.0409 - acc: 0.9870 - val_loss: 0.0742 - val_acc: 0.9839\n",
      "Epoch 18/20\n",
      "49980/49980 [==============================] - 26s 529us/step - loss: 0.0442 - acc: 0.9861 - val_loss: 0.0803 - val_acc: 0.9799\n",
      "Epoch 19/20\n",
      "49980/49980 [==============================] - 26s 516us/step - loss: 0.0433 - acc: 0.9869 - val_loss: 0.0732 - val_acc: 0.9830\n",
      "Epoch 20/20\n",
      "49980/49980 [==============================] - 26s 519us/step - loss: 0.0413 - acc: 0.9877 - val_loss: 0.0752 - val_acc: 0.9826\n"
     ]
    }
   ],
   "source": [
    "history_dropout = model_dropout.fit(X_train2, y_train2, batch_size=128,\n",
    "                            epochs=20, verbose=1, validation_split=.167)"
   ]
  },
  {
   "cell_type": "code",
   "execution_count": 117,
   "metadata": {},
   "outputs": [
    {
     "data": {
      "image/png": "[encoded data removed]",
      "text/plain": [
       "<matplotlib.figure.Figure at 0x1593c3cc0>"
      ]
     },
     "metadata": {},
     "output_type": "display_data"
    }
   ],
   "source": [
    "df = pd.DataFrame(history_dropout.history)\n",
    "df[['acc', 'val_acc']].plot()\n",
    "plt.ylabel(\"accuracy\")\n",
    "df[['loss', 'val_loss']].plot(linestyle='--', ax=plt.twinx())\n",
    "plt.ylabel(\"loss\")\n",
    "plt.show()"
   ]
  },
  {
   "cell_type": "markdown",
   "metadata": {},
   "source": [
    "The dropout model also performs well, with validation set out-performing the training set at first, but then plateauing sooner at about 0.98. "
   ]
  },
  {
   "cell_type": "markdown",
   "metadata": {},
   "source": [
    "Note to TA's: I decided at this point to run the second half of this homework on Google Cloud in order to cut down on computation time. I was able to run Task 3 successfully but I ran into a disk space issue with Task 4. After researching the issue, I re-sized my disk and then tried to re-size my file system (as instructed by Google Cloud documentation) but was unsuccessful no matter how many different tricks I tried. After that point, I could no longer ssh into my instance (and therefore access my jupyter notebook) and therefore was unable to complete Task 4 due to these issues. I have contacted Professor Mueller about this and tried out his recommendations, such as rebooting the instance (I also tried to re-size the file system from the Google Cloud command line, and found that somehow the disk was now resized to 30GB, which is different from the initial 10GB I started with and the 40GB I had re-sized it to, which is confusing and I don't know how to fix that either). Unfortunately none of these solutions or other Google-produced solutions have worked, and I can't even download the jupyter notebook and convert to a pdf for submission. Therefore, I have decided this might be the best way for you to see the work I did on the second half of the problem set: I have copied all of the code into a .py file and took screenshots of the entire notebook and converted them to a pdf (which I have combined with the pdf of the jupyter notebook for tasks 1 and 2) and will submit the combined pdf on gradescope and the jupyter notebook and .py file on github. I am so sorry for any added stress this puts you through in terms of grading, but this was the only feasible solution that I thought would show you my code and the outputs for Tasks 3 and 4."
   ]
  },
  {
   "cell_type": "code",
   "execution_count": null,
   "metadata": {
    "collapsed": true
   },
   "outputs": [],
   "source": []
  }
 ],
 "metadata": {
  "kernelspec": {
   "display_name": "Python 3",
   "language": "python",
   "name": "python3"
  },
  "language_info": {
   "codemirror_mode": {
    "name": "ipython",
    "version": 3
   },
   "file_extension": ".py",
   "mimetype": "text/x-python",
   "name": "python",
   "nbconvert_exporter": "python",
   "pygments_lexer": "ipython3",
   "version": "3.6.3"
  }
 },
 "nbformat": 4,
 "nbformat_minor": 2
}
